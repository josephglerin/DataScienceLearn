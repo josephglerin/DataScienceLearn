{
 "cells": [
  {
   "cell_type": "markdown",
   "id": "9eca9220-9905-407c-aa32-7970c75e7c75",
   "metadata": {},
   "source": [
    "# Data Science Tools and Ecosystem"
   ]
  },
  {
   "cell_type": "markdown",
   "id": "4a96aa6a-13a0-4d3f-b314-38ce74aba9f6",
   "metadata": {},
   "source": [
    "![2-title](2-title.png)"
   ]
  },
  {
   "cell_type": "markdown",
   "id": "22fd851d-bea6-4014-93b6-3983a2f3529a",
   "metadata": {},
   "source": [
    "## In this notebook, Data Science Tools and Ecosystem are summarized."
   ]
  },
  {
   "cell_type": "markdown",
   "id": "a0c6b354-3ac2-4ae9-8c9f-d5ebc53ea076",
   "metadata": {},
   "source": [
    "![3-intro](3-intro.png)"
   ]
  },
  {
   "cell_type": "markdown",
   "id": "213c29f7-0f5d-438f-bfd4-c24a1abe3fcc",
   "metadata": {},
   "source": [
    "**Objectives:**\n",
    "- List popular languages for Data Science\n",
    "- Commonly used libraries used by Data Scientists\n",
    "- Data Science Tools\n",
    "- Evaluating arithmetic expressions"
   ]
  },
  {
   "cell_type": "markdown",
   "id": "a84c0035-b99f-4779-834e-6ea49b8de2f3",
   "metadata": {},
   "source": [
    "![10-objectives.png](10-objectives.png)"
   ]
  },
  {
   "cell_type": "markdown",
   "id": "f15df506-862f-4bcc-b595-4b4f39524eb7",
   "metadata": {},
   "source": [
    "## Some of the popular languages that Data Scientists use are:"
   ]
  },
  {
   "cell_type": "markdown",
   "id": "16b4a4bf-9611-4a0b-86f8-d8f8d092f71a",
   "metadata": {},
   "source": [
    "1. Python\n",
    "2. R\n",
    "3. Scala\n",
    "4. SQL"
   ]
  },
  {
   "cell_type": "markdown",
   "id": "e6ae6cf0-a820-4f9d-bb51-fd2e26c570c8",
   "metadata": {},
   "source": [
    "![4-dslanguages.png](4-dslanguages.png)"
   ]
  },
  {
   "cell_type": "markdown",
   "id": "343f4308-6aaa-4fdc-8f93-24e02a3bf415",
   "metadata": {},
   "source": [
    "## Some of the commonly used libraries used by Data Scientists include:"
   ]
  },
  {
   "cell_type": "markdown",
   "id": "e97b661c-da09-4396-9579-65ad7ee2135e",
   "metadata": {},
   "source": [
    "1. numpy\n",
    "2. matplotlib\n",
    "3. ggplot2\n",
    "4. scikit-learn\n",
    "5. TensorFlow"
   ]
  },
  {
   "cell_type": "markdown",
   "id": "a74c481f-5d64-40e9-baa5-faabfaf32242",
   "metadata": {},
   "source": [
    "![5-dslibraries.png](5-dslibraries.png)"
   ]
  },
  {
   "cell_type": "markdown",
   "id": "1574745a-af82-41b3-859e-6629513d83ae",
   "metadata": {},
   "source": [
    "## Data Science Tools"
   ]
  },
  {
   "cell_type": "markdown",
   "id": "ec457e36-3bcc-44e0-be93-1a96ce6d40e2",
   "metadata": {},
   "source": [
    "| Data Science Tools |\n",
    "| -------------------|\n",
    "| Jupyter Notebook |\n",
    "| RStudio | \n",
    "| Visual Studio Code |\n"
   ]
  },
  {
   "cell_type": "markdown",
   "id": "857debf2-5cae-45c9-aec2-916de9679de5",
   "metadata": {},
   "source": [
    "![6-dstools.png](6-dstools.png)"
   ]
  },
  {
   "cell_type": "markdown",
   "id": "d346b7da-87bf-48f0-9ce5-ec8097a239f3",
   "metadata": {},
   "source": [
    "### Below are a few examples of evaluating arithmetic expressions in Python"
   ]
  },
  {
   "cell_type": "code",
   "execution_count": 3,
   "id": "058e3272-10e7-4381-a179-4940c18b38a0",
   "metadata": {},
   "outputs": [
    {
     "data": {
      "text/plain": [
       "6"
      ]
     },
     "execution_count": 3,
     "metadata": {},
     "output_type": "execute_result"
    }
   ],
   "source": [
    "2*3"
   ]
  },
  {
   "cell_type": "markdown",
   "id": "28d096ab-3a52-4150-8903-31f700b59867",
   "metadata": {},
   "source": [
    "![7-introarithmetic.png](7-introarithmetic.png)"
   ]
  },
  {
   "cell_type": "markdown",
   "id": "3db23f13-2aaf-4901-a927-a41064f1c3f5",
   "metadata": {},
   "source": [
    "This a simple arithmetic expression to mutiply then add integers"
   ]
  },
  {
   "cell_type": "code",
   "execution_count": 4,
   "id": "a792f29d-ae80-4852-9e91-59f67390c8d9",
   "metadata": {},
   "outputs": [
    {
     "data": {
      "text/plain": [
       "17"
      ]
     },
     "execution_count": 4,
     "metadata": {},
     "output_type": "execute_result"
    }
   ],
   "source": [
    "(3*4)+5"
   ]
  },
  {
   "cell_type": "markdown",
   "id": "d72fa8c6-94cc-487d-b496-0bb6e4ccaecd",
   "metadata": {},
   "source": [
    "![8-multiplyandaddintegers.png](8-multiplyandaddintegers.png)"
   ]
  },
  {
   "cell_type": "markdown",
   "id": "4f069cdd-318a-4bba-942e-fcff7f34e3e3",
   "metadata": {},
   "source": [
    "This will convert 200 minutes to hours by diving by 60"
   ]
  },
  {
   "cell_type": "code",
   "execution_count": 6,
   "id": "11b8c943-9bf7-4249-8629-1a677c9fd815",
   "metadata": {},
   "outputs": [
    {
     "data": {
      "text/plain": [
       "3.3333333333333335"
      ]
     },
     "execution_count": 6,
     "metadata": {},
     "output_type": "execute_result"
    }
   ],
   "source": [
    "200/60"
   ]
  },
  {
   "cell_type": "markdown",
   "id": "ed3ccf2f-3207-48d4-b191-9c12853f6d75",
   "metadata": {},
   "source": [
    "![9-minutestohours.png](9-minutestohours.png)"
   ]
  },
  {
   "cell_type": "markdown",
   "id": "e2c87f29-a14d-48e2-96f8-41ea732b1097",
   "metadata": {},
   "source": [
    "## Author\n",
    "Glerin Pinhero"
   ]
  },
  {
   "cell_type": "markdown",
   "id": "84398fd8-8697-41f4-83da-eb92b4ac81a3",
   "metadata": {},
   "source": [
    "![11-authordetails.png](11-authordetails.png)"
   ]
  },
  {
   "cell_type": "code",
   "execution_count": null,
   "id": "b46e4bbc-fc41-48ae-983a-21a5ab703f85",
   "metadata": {},
   "outputs": [],
   "source": []
  }
 ],
 "metadata": {
  "kernelspec": {
   "display_name": "Python 3 (ipykernel)",
   "language": "python",
   "name": "python3"
  },
  "language_info": {
   "codemirror_mode": {
    "name": "ipython",
    "version": 3
   },
   "file_extension": ".py",
   "mimetype": "text/x-python",
   "name": "python",
   "nbconvert_exporter": "python",
   "pygments_lexer": "ipython3",
   "version": "3.12.8"
  }
 },
 "nbformat": 4,
 "nbformat_minor": 5
}
